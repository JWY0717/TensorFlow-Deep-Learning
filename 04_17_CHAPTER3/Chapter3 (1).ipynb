{
  "cells": [
    {
      "cell_type": "markdown",
      "metadata": {
        "id": "BCq2UCUvEkhh"
      },
      "source": [
        "<시작하세요! 텐서플로 2.0 프로그래밍> 예제코드입니다.\n",
        "\n",
        "- 예제 코드를 실행하기 위해서는 [파일] > [드라이브에 사본 저장]으로 본인의 계정에 사본을 만든 다음 실행하면 됩니다.\n",
        "- 예제 코드는 [깃허브 저장소](https://github.com/wikibook/tf2)에서도 동일하게 제공됩니다. 예제에 대한 질문이나 책에 대한 질문은 깃허브 저장소의 [Issues](https://github.com/wikibook/tf2/issues)에 올려주세요.\n",
        "- 각 장의 예제 파일은 처음부터 끝까지 실행하는 상황을 가정하고 작성되었습니다. 혹시 세션이 다운되는 등의 이유로 실행이 되지 않는 경우가 있다면, 필요한 라이브러리를 import 하신 후에 실행하시면 됩니다. (tensorflow, numpy, pandas 등)"
      ]
    },
    {
      "cell_type": "markdown",
      "metadata": {
        "id": "aE3jL3tX0Vq0"
      },
      "source": [
        "# 3.1 Hello World"
      ]
    },
    {
      "cell_type": "code",
      "execution_count": 2,
      "metadata": {
        "colab": {
          "base_uri": "https://localhost:8080/"
        },
        "id": "xiupWrsfvYxH",
        "outputId": "eb3e8fbd-5c2f-4e06-eee5-60c524f0a346"
      },
      "outputs": [
        {
          "name": "stdout",
          "output_type": "stream",
          "text": [
            "Hello, World!\n"
          ]
        }
      ],
      "source": [
        "# 3.1 Hello World 프로그램\n",
        "print(\"Hello, World!\")"
      ]
    },
    {
      "cell_type": "markdown",
      "metadata": {
        "id": "OqTF25dJtn0b"
      },
      "source": []
    },
    {
      "cell_type": "code",
      "execution_count": 1,
      "metadata": {
        "colab": {
          "base_uri": "https://localhost:8080/"
        },
        "id": "9nuLn3boxiJR",
        "outputId": "463606d1-89ed-4229-9c7e-7019544308f8"
      },
      "outputs": [
        {
          "name": "stdout",
          "output_type": "stream",
          "text": [
            "Hello, World!\n"
          ]
        }
      ],
      "source": [
        "# 3.2 Hello World 프로그램 첫 줄의 # 를 지웠을 때 에러가 나는 모습\n",
        "# 주석 처리 => 3.1 Hello World\n",
        "print(\"Hello, World!\")"
      ]
    },
    {
      "cell_type": "code",
      "execution_count": 3,
      "metadata": {
        "colab": {
          "base_uri": "https://localhost:8080/"
        },
        "id": "jdV_7mr7xk85",
        "outputId": "5fad2e94-ffbe-420c-b1af-6c4032eab2c9"
      },
      "outputs": [
        {
          "name": "stdout",
          "output_type": "stream",
          "text": [
            "Hello, World!\n"
          ]
        }
      ],
      "source": [
        "# 3.3 Hello World 프로그램 문자열의 따옴표(“)를 홑따옴표(‘)로 바꿈\n",
        "print('Hello, World!')"
      ]
    },
    {
      "cell_type": "markdown",
      "metadata": {
        "id": "0Rtekp0G0YL0"
      },
      "source": [
        "# 3.2 Hello 텐서플로 2.0"
      ]
    },
    {
      "cell_type": "code",
      "execution_count": 4,
      "metadata": {
        "colab": {
          "base_uri": "https://localhost:8080/"
        },
        "id": "CklSGCkG2v22",
        "outputId": "160f8e30-ae14-4ac6-a5f0-ff39fbe5f46e"
      },
      "outputs": [
        {
          "name": "stdout",
          "output_type": "stream",
          "text": [
            "Colab only includes TensorFlow 2.x; %tensorflow_version has no effect.\n"
          ]
        }
      ],
      "source": [
        "# 3.4 텐서플로 2.0 버전 선택\n",
        "try:\n",
        "    # %tensorflow_version only exists in Colab.\n",
        "    %tensorflow_version 2.x\n",
        "except Exception:\n",
        "    pass\n",
        "import tensorflow as tf"
      ]
    },
    {
      "cell_type": "code",
      "execution_count": 5,
      "metadata": {
        "colab": {
          "base_uri": "https://localhost:8080/"
        },
        "id": "1nyZokK7MKTd",
        "outputId": "26b18268-a0bc-466f-c19a-6b79404af815"
      },
      "outputs": [
        {
          "name": "stdout",
          "output_type": "stream",
          "text": [
            "Linux-5.10.147+-x86_64-with-glibc2.31\n"
          ]
        }
      ],
      "source": [
        "# Google Colab 운영체제 확인\n",
        "import platform\n",
        "print(platform.platform())"
      ]
    },
    {
      "cell_type": "code",
      "execution_count": 6,
      "metadata": {
        "colab": {
          "base_uri": "https://localhost:8080/"
        },
        "id": "ksLZERzR3n29",
        "outputId": "6dc3e865-b7a7-4ea7-8eb1-909fb5466261"
      },
      "outputs": [
        {
          "name": "stdout",
          "output_type": "stream",
          "text": [
            "2.12.0\n"
          ]
        }
      ],
      "source": [
        "# 3.5 텐서플로우 불러오기, 버전 확인\n",
        "import tensorflow as tf\n",
        "print(tf.__version__)"
      ]
    },
    {
      "cell_type": "code",
      "execution_count": 7,
      "metadata": {
        "colab": {
          "base_uri": "https://localhost:8080/",
          "height": 211
        },
        "id": "rY7Wy7VXCRQn",
        "outputId": "0178736b-0b4f-4b2f-e968-264d520a0618"
      },
      "outputs": [
        {
          "ename": "NameError",
          "evalue": "ignored",
          "output_type": "error",
          "traceback": [
            "\u001b[0;31m---------------------------------------------------------------------------\u001b[0m",
            "\u001b[0;31mNameError\u001b[0m                                 Traceback (most recent call last)",
            "\u001b[0;32m<ipython-input-7-88ff855f32df>\u001b[0m in \u001b[0;36m<cell line: 3>\u001b[0;34m()\u001b[0m\n\u001b[1;32m      1\u001b[0m \u001b[0;31m# 3.6 텐서플로우 불러오기, 버전 확인 에러\u001b[0m\u001b[0;34m\u001b[0m\u001b[0;34m\u001b[0m\u001b[0m\n\u001b[1;32m      2\u001b[0m \u001b[0;32mimport\u001b[0m \u001b[0mtensorflow\u001b[0m \u001b[0;32mas\u001b[0m \u001b[0mtf\u001b[0m\u001b[0;34m\u001b[0m\u001b[0;34m\u001b[0m\u001b[0m\n\u001b[0;32m----> 3\u001b[0;31m \u001b[0mprint\u001b[0m\u001b[0;34m(\u001b[0m\u001b[0mtensorflow\u001b[0m\u001b[0;34m.\u001b[0m\u001b[0m__version__\u001b[0m\u001b[0;34m)\u001b[0m\u001b[0;34m\u001b[0m\u001b[0;34m\u001b[0m\u001b[0m\n\u001b[0m",
            "\u001b[0;31mNameError\u001b[0m: name 'tensorflow' is not defined"
          ]
        }
      ],
      "source": [
        "# 3.6 텐서플로우 불러오기, 버전 확인 에러\n",
        "import tensorflow as tf\n",
        "print(tensorflow.__version__)"
      ]
    },
    {
      "cell_type": "markdown",
      "metadata": {
        "id": "2ooF5dOI0cJc"
      },
      "source": [
        "# 3.3 텐서플로 기초"
      ]
    },
    {
      "cell_type": "markdown",
      "metadata": {
        "id": "2dR8mqitUEfH"
      },
      "source": [
        "## 3.3.1 랜덤한 수 생성"
      ]
    },
    {
      "cell_type": "code",
      "execution_count": 8,
      "metadata": {
        "colab": {
          "base_uri": "https://localhost:8080/"
        },
        "id": "Mq2AtFOl0hS1",
        "outputId": "c40f235c-d2d7-4c06-c630-7eb749a0fd03"
      },
      "outputs": [
        {
          "name": "stdout",
          "output_type": "stream",
          "text": [
            "tf.Tensor([0.17062104], shape=(1,), dtype=float32)\n"
          ]
        }
      ],
      "source": [
        "# 3.7 랜덤한 수 얻기 (균일 분포)\n",
        "# tf= 텐서플로를 가져와서 나는 tf라고 부르겠다!\n",
        "\n",
        "rand = tf.random.uniform([1],0,1)\n",
        "print(rand)"
      ]
    },
    {
      "cell_type": "code",
      "execution_count": 9,
      "metadata": {
        "colab": {
          "base_uri": "https://localhost:8080/"
        },
        "id": "7Fb7DLjQ4i4C",
        "outputId": "e9b7f201-0809-43e2-c95b-0ec8a922f2a3"
      },
      "outputs": [
        {
          "name": "stdout",
          "output_type": "stream",
          "text": [
            "tf.Tensor([0.9596994  0.79934144 0.6047567  0.6311463 ], shape=(4,), dtype=float32)\n"
          ]
        }
      ],
      "source": [
        "# 3.8 랜덤한 수 여러 개 얻기 (균일 분포)\n",
        "rand = tf.random.uniform([4],0,1)\n",
        "print(rand)"
      ]
    },
    {
      "cell_type": "code",
      "execution_count": 10,
      "metadata": {
        "colab": {
          "base_uri": "https://localhost:8080/"
        },
        "id": "jcmeN0232BUz",
        "outputId": "eb09ce0e-b1e2-4c53-92e7-85bd1ff1b637"
      },
      "outputs": [
        {
          "name": "stdout",
          "output_type": "stream",
          "text": [
            "tf.Tensor([-0.8975189   1.3234805   0.68120235 -0.8438956 ], shape=(4,), dtype=float32)\n"
          ]
        }
      ],
      "source": [
        "# 3.9 랜덤한 수 여러 개 얻기 (정규 분포)\n",
        "rand = tf.random.normal([4],0,1)\n",
        "print(rand)"
      ]
    },
    {
      "cell_type": "markdown",
      "metadata": {
        "id": "goJriV4SUL4F"
      },
      "source": [
        "## 3.3.2 뉴런 만들기"
      ]
    },
    {
      "cell_type": "code",
      "execution_count": 11,
      "metadata": {
        "id": "ilkTV9SKmyP5"
      },
      "outputs": [],
      "source": [
        "# 3.10 sigmoid 함수\n",
        "import math\n",
        "def sigmoid(x):\n",
        "    return 1 / (1 + math.exp(-x))"
      ]
    },
    {
      "cell_type": "code",
      "execution_count": 12,
      "metadata": {
        "colab": {
          "base_uri": "https://localhost:8080/"
        },
        "id": "bmOY52Sj3p0a",
        "outputId": "d6c485d3-4d77-41b4-f09b-1382ef9026f0"
      },
      "outputs": [
        {
          "name": "stdout",
          "output_type": "stream",
          "text": [
            "0.7256146299153541\n"
          ]
        }
      ],
      "source": [
        "# 3.11 뉴런의 입력과 출력 정의\n",
        "x = 1\n",
        "y = 0\n",
        "w = tf.random.normal([1],0,1)\n",
        "output = sigmoid(x * w)\n",
        "print(output)"
      ]
    },
    {
      "cell_type": "code",
      "execution_count": 21,
      "metadata": {
        "colab": {
          "base_uri": "https://localhost:8080/"
        },
        "id": "SQOfPrld8cde",
        "outputId": "c73019e7-df76-4d0b-c25e-79f6f7c315e4"
      },
      "outputs": [
        {
          "name": "stdout",
          "output_type": "stream",
          "text": [
            "99 -0.0005737891454272293 0.0005737891454272293\n",
            "199 -0.0005577934168148606 0.0005577934168148606\n",
            "299 -0.000542665014372822 0.000542665014372822\n",
            "399 -0.0005283355889577859 0.0005283355889577859\n",
            "499 -0.0005147426375366827 0.0005147426375366827\n",
            "599 -0.000501832045561976 0.000501832045561976\n",
            "699 -0.0004895530032220543 0.0004895530032220543\n",
            "799 -0.0004778606934620634 0.0004778606934620634\n",
            "899 -0.0004667132513120497 0.0004667132513120497\n",
            "999 -0.0004560739093192845 0.0004560739093192845\n",
            "1099 -0.0004459088081233925 0.0004459088081233925\n",
            "1199 -0.00043618716382472174 0.00043618716382472174\n",
            "1299 -0.00042688018591787477 0.00042688018591787477\n",
            "1399 -0.0004179621167904243 0.0004179621167904243\n",
            "1499 -0.0004094087966428816 0.0004094087966428816\n",
            "1599 -0.00040119849997374195 0.00040119849997374195\n",
            "1699 -0.00039331060730550104 0.00039331060730550104\n",
            "1799 -0.00038572718497238993 0.00038572718497238993\n",
            "1899 -0.00037843095545821517 0.00037843095545821517\n",
            "1999 -0.0003714050844586821 0.0003714050844586821\n",
            "2099 -0.0003646354222845398 0.0003646354222845398\n",
            "2199 -0.0003581080644860621 0.0003581080644860621\n",
            "2299 -0.0003518106896886942 0.0003518106896886942\n",
            "2399 -0.00034573046122419895 0.00034573046122419895\n",
            "2499 -0.00033985716327529004 0.00033985716327529004\n",
            "2599 -0.00033418012764878434 0.00033418012764878434\n",
            "2699 -0.0003286892226712962 0.0003286892226712962\n",
            "2799 -0.00032337543697572317 0.00032337543697572317\n",
            "2899 -0.0003182321652313308 0.0003182321652313308\n",
            "2999 -0.00031324860764402686 0.00031324860764402686\n",
            "3099 -0.0003084189222724959 0.0003084189222724959\n",
            "3199 -0.00030373606435485064 0.00030373606435485064\n",
            "3299 -0.00029919387947568917 0.00029919387947568917\n",
            "3399 -0.00029478395242015957 0.00029478395242015957\n",
            "3499 -0.0002905035317379739 0.0002905035317379739\n",
            "3599 -0.00028634584739492324 0.00028634584739492324\n",
            "3699 -0.0002823049743425235 0.0002823049743425235\n",
            "3799 -0.0002783765741295976 0.0002783765741295976\n",
            "3899 -0.00027455569576080666 0.00027455569576080666\n",
            "3999 -0.000270838628219782 0.000270838628219782\n",
            "4099 -0.0002672207827206068 0.0002672207827206068\n",
            "4199 -0.00026369775919139374 0.00026369775919139374\n",
            "4299 -0.00026026583304498475 0.00026026583304498475\n",
            "4399 -0.00025692387400988215 0.00025692387400988215\n",
            "4499 -0.00025366641215331527 0.00025366641215331527\n",
            "4599 -0.00025048916583748107 0.00025048916583748107\n",
            "4699 -0.0002473915648800631 0.0002473915648800631\n",
            "4799 -0.0002443700019985234 0.0002443700019985234\n",
            "4899 -0.00024141962902859233 0.00024141962902859233\n",
            "4999 -0.0002385421653447564 0.0002385421653447564\n",
            "5099 -0.00023573000424251633 0.00023573000424251633\n",
            "5199 -0.0002329854170603856 0.0002329854170603856\n",
            "5299 -0.00023030285849897573 0.00023030285849897573\n",
            "5399 -0.0002276809180417873 0.0002276809180417873\n",
            "5499 -0.00022511972740956726 0.00022511972740956726\n",
            "5599 -0.0002226138714393509 0.0002226138714393509\n",
            "5699 -0.00022016277032975697 0.00022016277032975697\n",
            "5799 -0.00021776730290108394 0.00021776730290108394\n",
            "5899 -0.00021542233462664966 0.00021542233462664966\n",
            "5999 -0.00021312658956193568 0.00021312658956193568\n",
            "6099 -0.00021087862747447454 0.00021087862747447454\n",
            "6199 -0.0002086788428081896 0.0002086788428081896\n",
            "6299 -0.00020652503849866874 0.00020652503849866874\n",
            "6399 -0.0002044148978368774 0.0002044148978368774\n",
            "6499 -0.0002023473416374398 0.0002023473416374398\n",
            "6599 -0.0002003209388225031 0.0002003209388225031\n",
            "6699 -0.0001983346808166409 0.0001983346808166409\n",
            "6799 -0.00019638739953872826 0.00019638739953872826\n",
            "6899 -0.0001944781464782814 0.0001944781464782814\n",
            "6999 -0.00019260563161629818 0.00019260563161629818\n",
            "7099 -0.00019076878580379312 0.00019076878580379312\n",
            "7199 -0.00018896657053749504 0.00018896657053749504\n",
            "7299 -0.00018719797688939016 0.00018719797688939016\n",
            "7399 -0.00018546202447915696 0.00018546202447915696\n",
            "7499 -0.0001837575852749416 0.0001837575852749416\n",
            "7599 -0.00018208391147557515 0.00018208391147557515\n",
            "7699 -0.0001804419950560998 0.0001804419950560998\n",
            "7799 -0.00017882971591541585 0.00017882971591541585\n",
            "7899 -0.00017724569804698182 0.00017724569804698182\n",
            "7999 -0.00017568877455781422 0.00017568877455781422\n",
            "8099 -0.00017415831093574126 0.00017415831093574126\n",
            "8199 -0.00017265368841307572 0.00017265368841307572\n",
            "8299 -0.0001711778943037045 0.0001711778943037045\n",
            "8399 -0.00016972604085154178 0.00016972604085154178\n",
            "8499 -0.0001682974111628096 0.0001682974111628096\n",
            "8599 -0.00016689114796696888 0.00016689114796696888\n",
            "8699 -0.00016551241444003466 0.00016551241444003466\n",
            "8799 -0.00016415461684614208 0.00016415461684614208\n",
            "8899 -0.0001628169604636367 0.0001628169604636367\n",
            "8999 -0.00016150267576060532 0.00016150267576060532\n",
            "9099 -0.00016021030261053977 0.00016021030261053977\n",
            "9199 -0.00015893614998133812 0.00015893614998133812\n",
            "9299 -0.00015768325495037167 0.00015768325495037167\n",
            "9399 -0.00015645112472294676 0.00015645112472294676\n",
            "9499 -0.00015523513359145237 0.00015523513359145237\n",
            "9599 -0.0001540407828316289 0.0001540407828316289\n",
            "9699 -0.00015286392788447123 0.00015286392788447123\n",
            "9799 -0.00015170228255321388 0.00015170228255321388\n",
            "9899 -0.00015056295811899668 0.00015056295811899668\n",
            "9999 -0.0001494367487316568 0.0001494367487316568\n"
          ]
        }
      ],
      "source": [
        "# 3.12 경사 하강법을 이용한 뉴런의 학습\n",
        "\n",
        "# y값의 차이를 계산해서 \n",
        "# 경사 하강법을 학습할 때 변하는 것은 가중치 = w\n",
        "# 난수를 새로 뽑는 것이 아니라 w를 계산 \n",
        "\n",
        "# 0.5의 값이 점점 커질 수록 output의 값이 점점 작아진다!\n",
        "# 경사 하강법 ==  경사를 계산해서 ==> 점점 0으로 떨어짐 ==>\n",
        "\n",
        "\n",
        "#  y - output) == 오차를 계산해서 => w를 다시 뽑음! => 0에 가장 가까워 질 때까지 실행! == 변화가 거의 없는 것을 찾는 과정\n",
        "#  0.5는 학습률 \n",
        "\n",
        "for i in range(10000):\n",
        "    output = sigmoid(x * w)\n",
        "\n",
        "    # 오차 계산\n",
        "    error = y - output   # y는 실제값 => 1  \n",
        "\n",
        "    w = w + x * 0.5 * error\n",
        "    \n",
        "    if i % 100 == 99:\n",
        "        print(i, error, output)\n",
        "\n",
        "# 뉴런이라는 것은 결국 w값 => 뉴런의 학습은 에러가 0에 가까워지게 해서 출력으로 기댓값에 가까운 값을 얻는 것\n",
        "# y - output = 0 이 되기 위한 w 값을 찾는 과정!!!!  "
      ]
    },
    {
      "cell_type": "code",
      "execution_count": 22,
      "metadata": {
        "colab": {
          "base_uri": "https://localhost:8080/"
        },
        "id": "v6QTKN-Y_Pej",
        "outputId": "0c7f7e74-e0c2-4236-cf46-b8bbdf8edb19"
      },
      "outputs": [
        {
          "name": "stdout",
          "output_type": "stream",
          "text": [
            "99 0.5 0.5\n",
            "199 0.5 0.5\n",
            "299 0.5 0.5\n",
            "399 0.5 0.5\n",
            "499 0.5 0.5\n",
            "599 0.5 0.5\n",
            "699 0.5 0.5\n",
            "799 0.5 0.5\n",
            "899 0.5 0.5\n",
            "999 0.5 0.5\n"
          ]
        }
      ],
      "source": [
        "# 3.13 x=0 일 때 y=1 을 얻는 뉴런의 학습\n",
        "x = 0\n",
        "y = 1\n",
        "w = tf.random.normal([1],0,1)\n",
        "\n",
        "# x = 0이기 때문에 error가 변하지 않고, 출력도 0.5에서 변하지 않는다!\n",
        "# \n",
        "for i in range(1000):\n",
        "    output = sigmoid(x * w)\n",
        "    error = y - output\n",
        "    w = w + x * 0.1 * error\n",
        "    \n",
        "    if i % 100 == 99:\n",
        "        print(i, error, output)"
      ]
    },
    {
      "cell_type": "code",
      "execution_count": null,
      "metadata": {
        "colab": {
          "base_uri": "https://localhost:8080/",
          "height": 197
        },
        "id": "RDkgV0si_CEM",
        "outputId": "bfc07d0d-f6c4-480a-c8d9-c3c98cae7b83"
      },
      "outputs": [
        {
          "name": "stdout",
          "output_type": "stream",
          "text": [
            "99 0.12391176263280856 0.8760882373671914\n",
            "199 0.05788813504866708 0.9421118649513329\n",
            "299 0.03726526076863568 0.9627347392313643\n",
            "399 0.027373746413644318 0.9726262535863557\n",
            "499 0.02159814084081968 0.9784018591591803\n",
            "599 0.017820932519426624 0.9821790674805734\n",
            "699 0.015161270609858502 0.9848387293901415\n",
            "799 0.013188596068714808 0.9868114039312852\n",
            "899 0.011667886468113897 0.9883321135318861\n",
            "999 0.01046021785488116 0.9895397821451188\n"
          ]
        }
      ],
      "source": [
        "# 3.13의 문제를 해결하기 위해 => x=0 일 때 y=1 을 얻는 뉴런의 학습에 편향을 더함\n",
        "x = 0\n",
        "y = 1\n",
        "w = tf.random.normal([1],0,1)\n",
        "b = tf.random.normal([1],0,1)\n",
        "\n",
        "for i in range(1000):\n",
        "    output = sigmoid(x * w + 1 * b)\n",
        "    error = y - output\n",
        "    w = w + x * 0.1 * error\n",
        "    b = b + 1 * 0.1 * error\n",
        "    \n",
        "    if i % 100 == 99:\n",
        "        print(i, error, output)"
      ]
    },
    {
      "cell_type": "markdown",
      "metadata": {
        "id": "6LBFLGQsUR2w"
      },
      "source": [
        "## 3.3.3 첫번째 신경망 네트워크 : AND"
      ]
    },
    {
      "cell_type": "code",
      "execution_count": 23,
      "metadata": {
        "colab": {
          "base_uri": "https://localhost:8080/"
        },
        "id": "-SwLUNk1-VbY",
        "outputId": "589ae02f-1662-4a97-9030-3b930a00a63b"
      },
      "outputs": [
        {
          "name": "stdout",
          "output_type": "stream",
          "text": [
            "1\n",
            "0\n"
          ]
        }
      ],
      "source": [
        "# 3.15 True, False 의 정수값 확인\n",
        "print(int(True))\n",
        "print(int(False))"
      ]
    },
    {
      "cell_type": "code",
      "execution_count": 24,
      "metadata": {
        "colab": {
          "base_uri": "https://localhost:8080/"
        },
        "id": "o5zrs_IeB6gn",
        "outputId": "4d9ccf23-80be-4d49-abe4-f9c55cb27a6e"
      },
      "outputs": [
        {
          "name": "stdout",
          "output_type": "stream",
          "text": [
            "199 -0.11497760929559142\n",
            "399 -0.06731821073809743\n",
            "599 -0.04749581875948576\n",
            "799 -0.036583032771492635\n",
            "999 -0.029691891122013633\n",
            "1199 -0.024955855958552466\n",
            "1399 -0.02150530176144428\n",
            "1599 -0.0188848581337151\n",
            "1799 -0.016824896134098256\n",
            "1999 -0.015166645020833883\n"
          ]
        }
      ],
      "source": [
        "# 3.16 첫번째 신경망 네트워크 : AND\n",
        "import numpy as np\n",
        "\n",
        "# 입력 데이터(x)와 정답 레이블(y)을 정의합니다.\n",
        "x = np.array([[1,1], [1,0], [0,1], [0,0]])\n",
        "y = np.array([[1], [0], [0], [0]])\n",
        "\n",
        "#가중치(w)와 편향(b)을 초기화합니다.\n",
        "w = tf.random.normal([2],0,1)\n",
        "b = tf.random.normal([1],0,1)\n",
        "b_x = 1\n",
        "\n",
        "for i in range(2000):\n",
        "    error_sum = 0\n",
        "    for j in range(4):\n",
        "        output = sigmoid(np.sum(x[j]*w)+b_x*b)\n",
        "        error = y[j][0] - output\n",
        "        w = w + x[j] * 0.1 * error\n",
        "        b = b + b_x * 0.1 * error\n",
        "        error_sum += error\n",
        "        \n",
        "    if i % 200 == 199:\n",
        "        print(i, error_sum)"
      ]
    },
    {
      "cell_type": "code",
      "execution_count": 25,
      "metadata": {
        "colab": {
          "base_uri": "https://localhost:8080/"
        },
        "id": "hGV_LiKHfRFD",
        "outputId": "2d9a5ae5-c67f-49c8-e640-f36f585f5a9a"
      },
      "outputs": [
        {
          "name": "stdout",
          "output_type": "stream",
          "text": [
            "[1, 2, 3, 1, 2, 3]\n",
            "[]\n",
            "[]\n"
          ]
        }
      ],
      "source": [
        "# 3.17 파이썬에서 리스트에 정수를 곱하기\n",
        "print([1,2,3]*2)\n",
        "print([1,2,3]*0)\n",
        "print([1,2,3]*-1)"
      ]
    },
    {
      "cell_type": "code",
      "execution_count": null,
      "metadata": {
        "colab": {
          "base_uri": "https://localhost:8080/",
          "height": 172
        },
        "id": "IaXA9tVYgOKn",
        "outputId": "df253579-d362-44a7-bd93-0c5f22f3d4f2"
      },
      "outputs": [
        {
          "ename": "TypeError",
          "evalue": "ignored",
          "output_type": "error",
          "traceback": [
            "\u001b[0;31m---------------------------------------------------------------------------\u001b[0m",
            "\u001b[0;31mTypeError\u001b[0m                                 Traceback (most recent call last)",
            "\u001b[0;32m<ipython-input-52-3f950372c2b1>\u001b[0m in \u001b[0;36m<module>\u001b[0;34m()\u001b[0m\n\u001b[0;32m----> 1\u001b[0;31m \u001b[0mprint\u001b[0m\u001b[0;34m(\u001b[0m\u001b[0;34m[\u001b[0m\u001b[0;36m1\u001b[0m\u001b[0;34m,\u001b[0m\u001b[0;36m2\u001b[0m\u001b[0;34m,\u001b[0m\u001b[0;36m3\u001b[0m\u001b[0;34m]\u001b[0m\u001b[0;34m*\u001b[0m\u001b[0;36m0.01\u001b[0m\u001b[0;34m)\u001b[0m\u001b[0;34m\u001b[0m\u001b[0;34m\u001b[0m\u001b[0m\n\u001b[0m",
            "\u001b[0;31mTypeError\u001b[0m: can't multiply sequence by non-int of type 'float'"
          ]
        }
      ],
      "source": [
        "# 3.18 파이썬에서 리스트에 실수를 곱하기\n",
        "print([1,2,3]*0.01)"
      ]
    },
    {
      "cell_type": "code",
      "execution_count": 26,
      "metadata": {
        "colab": {
          "base_uri": "https://localhost:8080/"
        },
        "id": "T6HVseMUfWRA",
        "outputId": "84022968-7ebb-4c9b-bdb1-cf965948cadd"
      },
      "outputs": [
        {
          "name": "stdout",
          "output_type": "stream",
          "text": [
            "[2 4 6]\n",
            "[0 0 0]\n",
            "[-1 -2 -3]\n",
            "[0.01 0.02 0.03]\n"
          ]
        }
      ],
      "source": [
        "# 3.19 넘파이 array 에 정수, 실수를 곱하기\n",
        "import numpy as np\n",
        "#print([1,2,3]*2) => [1, 2, 3, 1, 2, 3]\n",
        "\n",
        "print(np.array([1,2,3])*2)\n",
        "print(np.array([1,2,3])*0)\n",
        "print(np.array([1,2,3])*-1)\n",
        "print(np.array([1,2,3])*0.01)"
      ]
    },
    {
      "cell_type": "code",
      "execution_count": 27,
      "metadata": {
        "colab": {
          "base_uri": "https://localhost:8080/"
        },
        "id": "l6maf-59at7S",
        "outputId": "cba97387-b5ac-458e-ab0f-de6ddac5dbc4"
      },
      "outputs": [
        {
          "name": "stdout",
          "output_type": "stream",
          "text": [
            "X: [1 1] Y: [1] Output: 0.9645910614760158\n",
            "X: [1 0] Y: [0] Output: 0.02509024319948967\n",
            "X: [0 1] Y: [0] Output: 0.025167690285547585\n",
            "X: [0 0] Y: [0] Output: 2.4390066372665744e-05\n"
          ]
        }
      ],
      "source": [
        "# 3.20 AND 네트워크의 평가\n",
        "for i in range(4):\n",
        "    print('X:', x[i], 'Y:', y[i], 'Output:', sigmoid(np.sum(x[i]*w)+b))"
      ]
    },
    {
      "cell_type": "markdown",
      "metadata": {
        "id": "GYepj949D6nc"
      },
      "source": [
        "## 3.3.4 두번째 신경망 네트워크 : OR"
      ]
    },
    {
      "cell_type": "code",
      "execution_count": null,
      "metadata": {
        "colab": {
          "base_uri": "https://localhost:8080/",
          "height": 197
        },
        "id": "orVUfaGAXEr5",
        "outputId": "043c8e84-cf11-4432-ef50-aee3e69258f8"
      },
      "outputs": [
        {
          "name": "stdout",
          "output_type": "stream",
          "text": [
            "199 -0.04250373233976931\n",
            "399 -0.02377204660067718\n",
            "599 -0.016403460122359978\n",
            "799 -0.012483777088005\n",
            "999 -0.01005965678340738\n",
            "1199 -0.008415806216678347\n",
            "1399 -0.007229549298837526\n",
            "1599 -0.0063334522495247444\n",
            "1799 -0.005634139262710159\n",
            "1999 -0.005071500290296207\n"
          ]
        }
      ],
      "source": [
        "# 3.21 두번째 신경망 네트워크 : OR\n",
        "import numpy as np\n",
        "x = np.array([[1,1], [1,0], [0,1], [0,0]])\n",
        "y = np.array([[1], [1], [1], [0]])\n",
        "w = tf.random.normal([2],0,1)\n",
        "b = tf.random.normal([1],0,1)\n",
        "b_x = 1\n",
        "\n",
        "for i in range(2000):\n",
        "    error_sum = 0\n",
        "    for j in range(4):\n",
        "        output = sigmoid(np.sum(x[j]*w)+b_x*b)\n",
        "        error = y[j][0] - output\n",
        "        w = w + x[j] * 0.1 * error\n",
        "        b = b + b_x * 0.1 * error\n",
        "        error_sum += error\n",
        "        \n",
        "    if i % 200 == 199:\n",
        "        print(i, error_sum)"
      ]
    },
    {
      "cell_type": "code",
      "execution_count": null,
      "metadata": {
        "colab": {
          "base_uri": "https://localhost:8080/",
          "height": 89
        },
        "id": "-iXp-4VflRwi",
        "outputId": "e56e22ee-ebc3-4772-b83c-9a8e5c7db961"
      },
      "outputs": [
        {
          "name": "stdout",
          "output_type": "stream",
          "text": [
            "X: [1 1] Y: [1] Output: 0.999997331473692\n",
            "X: [1 0] Y: [1] Output: 0.9899476313420319\n",
            "X: [0 1] Y: [1] Output: 0.9899158841652302\n",
            "X: [0 0] Y: [0] Output: 0.025148692483856868\n"
          ]
        }
      ],
      "source": [
        "# 3.22 OR 네트워크의 평가\n",
        "for i in range(4):\n",
        "    print('X:', x[i], 'Y:', y[i], 'Output:', sigmoid(np.sum(x[i]*w)+b))"
      ]
    },
    {
      "cell_type": "markdown",
      "metadata": {
        "id": "QgOO48DlEELV"
      },
      "source": [
        "## 3.3.5 세번째 신경망 네트워크 : XOR"
      ]
    },
    {
      "cell_type": "code",
      "execution_count": 31,
      "metadata": {
        "colab": {
          "base_uri": "https://localhost:8080/"
        },
        "id": "50OujnLhouap",
        "outputId": "ca8b4852-6084-4dcc-82e3-25d12b04b764"
      },
      "outputs": [
        {
          "name": "stdout",
          "output_type": "stream",
          "text": [
            "199 -0.004437287102655008\n",
            "399 -0.00018040746168690447\n",
            "599 -7.32002830861056e-06\n",
            "799 -2.950352243624721e-07\n",
            "999 4.653552765354618e-09\n",
            "1199 3.722842145670313e-09\n",
            "1399 3.722842145670313e-09\n",
            "1599 3.722842145670313e-09\n",
            "1799 3.722842145670313e-09\n",
            "1999 3.722842145670313e-09\n"
          ]
        }
      ],
      "source": [
        "# 3.23 세번째 신경망 네트워크 : XOR\n",
        "import numpy as np\n",
        "x = np.array([[1,1], [1,0], [0,1], [0,0]])\n",
        "y = np.array([[0], [1], [1], [0]])\n",
        "w = tf.random.normal([2],0,1)\n",
        "b = tf.random.normal([1],0,1)\n",
        "b_x = 1\n",
        "\n",
        "for i in range(2000):\n",
        "    error_sum = 0\n",
        "    for j in range(4):\n",
        "        output = sigmoid(np.sum(x[j]*w)+b_x*b)\n",
        "        error = y[j][0] - output\n",
        "        w = w + x[j] * 0.1 * error\n",
        "        b = b + b_x * 0.1 * error\n",
        "        error_sum += error\n",
        "        \n",
        "    if i % 200 == 199:\n",
        "        print(i, error_sum)"
      ]
    },
    {
      "cell_type": "code",
      "execution_count": 32,
      "metadata": {
        "colab": {
          "base_uri": "https://localhost:8080/"
        },
        "id": "K77eQ8FYo04H",
        "outputId": "c67c255d-f1d1-4817-9708-1ea9bc3fb931"
      },
      "outputs": [
        {
          "name": "stdout",
          "output_type": "stream",
          "text": [
            "X: [1 1] Y: [0] Output: 0.5128176286712095\n",
            "X: [1 0] Y: [1] Output: 0.5128176305326305\n",
            "X: [0 1] Y: [1] Output: 0.4999999990686774\n",
            "X: [0 0] Y: [0] Output: 0.5000000009313226\n"
          ]
        }
      ],
      "source": [
        "# 3.24 XOR 네트워크의 평가\n",
        "for i in range(4):\n",
        "    print('X:', x[i], 'Y:', y[i], 'Output:', sigmoid(np.sum(x[i]*w)+b))"
      ]
    },
    {
      "cell_type": "code",
      "execution_count": 33,
      "metadata": {
        "colab": {
          "base_uri": "https://localhost:8080/"
        },
        "id": "0HsT3BKW1ajx",
        "outputId": "a6618862-be4b-4ac5-d9b7-a83a365c5496"
      },
      "outputs": [
        {
          "name": "stdout",
          "output_type": "stream",
          "text": [
            "w: tf.Tensor([ 5.1281754e-02 -7.4505806e-09], shape=(2,), dtype=float32)\n",
            "b: tf.Tensor([3.7252903e-09], shape=(1,), dtype=float32)\n"
          ]
        }
      ],
      "source": [
        "# 3.25 XOR 네트워크의 w, b 값 확인\n",
        "print('w:', w)\n",
        "print('b:', b)"
      ]
    },
    {
      "cell_type": "code",
      "execution_count": 34,
      "metadata": {
        "id": "s-JnstrlDeXR"
      },
      "outputs": [],
      "source": [
        "# 3.26 AND 네트워크의 w, b 값 확인\n",
        "# w: tf.Tensor([6.9484286 6.951607 ], shape=(2,), dtype=float32)\n",
        "# b: tf.Tensor([-10.601849], shape=(1,), dtype=float32)"
      ]
    },
    {
      "cell_type": "code",
      "execution_count": 35,
      "metadata": {
        "colab": {
          "base_uri": "https://localhost:8080/",
          "height": 137
        },
        "id": "mmyyA5XpEdBj",
        "outputId": "5f79ccdd-0e19-4d4e-9fda-2d6ee96c543d"
      },
      "outputs": [
        {
          "ename": "SyntaxError",
          "evalue": "ignored",
          "output_type": "error",
          "traceback": [
            "\u001b[0;36m  File \u001b[0;32m\"<ipython-input-35-03e9adcb1e69>\"\u001b[0;36m, line \u001b[0;32m15\u001b[0m\n\u001b[0;31m    tf.keras.layers.Dense(units=1, activation='sigmoid')\u001b[0m\n\u001b[0m    ^\u001b[0m\n\u001b[0;31mSyntaxError\u001b[0m\u001b[0;31m:\u001b[0m invalid syntax\n"
          ]
        }
      ],
      "source": [
        "# 3.27 tf.keras 를 이용한 XOR 네트워크 계산\n",
        "import numpy as np\n",
        "x = np.array([[1,1], [1,0], [0,1], [0,0]])\n",
        "y = np.array([[0], [1], [1], [0]])\n",
        "\n",
        "model = tf.keras.Sequential([\n",
        "    # input_shape : 입력단자\n",
        "\n",
        "    # 첫 번째 은닉층(Dense)은 2개의 유닛(units)을 가지고 \n",
        "    # sigmoid 활성화 함수(activation)를 사용합니다. 입력 데이터의 형태(input_shape)는 (2,)로 지정됩니다.\n",
        "\n",
        "    tf.keras.layers.Dense(units=2, activation='sigmoid', input_shape=(2,))\n",
        "\n",
        "    # 두 번째 은닉층(Dense)은 1개의 유닛(units)을 가지고 sigmoid 활성화 함수(activation)를 사용합니다\n",
        "    tf.keras.layers.Dense(units=1, activation='sigmoid')\n",
        "# 모델을 컴파일합니다. 경사하강법 최적화 알고리즘으로 SGD(Stochastic Gradient Descent)를 사용하고, \n",
        "#학습률(lr)은 0.3으로 지정합니다. 손실 함수로는 MSE(Mean Squared Error)를 사용합니다.\n",
        "model.compile(optimizer=tf.keras.optimizers.SGD(lr=0.3), loss='mse')\n",
        "\n",
        "model.summary()"
      ]
    },
    {
      "cell_type": "code",
      "execution_count": 30,
      "metadata": {
        "colab": {
          "base_uri": "https://localhost:8080/",
          "height": 193
        },
        "id": "Bo-9gEOmh8L-",
        "outputId": "007691b6-71a2-4fb0-d400-64eeeb3f7f44"
      },
      "outputs": [
        {
          "ename": "NameError",
          "evalue": "ignored",
          "output_type": "error",
          "traceback": [
            "\u001b[0;31m---------------------------------------------------------------------------\u001b[0m",
            "\u001b[0;31mNameError\u001b[0m                                 Traceback (most recent call last)",
            "\u001b[0;32m<ipython-input-30-ffdb74d5d9e1>\u001b[0m in \u001b[0;36m<cell line: 2>\u001b[0;34m()\u001b[0m\n\u001b[1;32m      1\u001b[0m \u001b[0;31m# 3.28 tf.keras 를 이용한 XOR 네트워크 학습\u001b[0m\u001b[0;34m\u001b[0m\u001b[0;34m\u001b[0m\u001b[0m\n\u001b[0;32m----> 2\u001b[0;31m \u001b[0mhistory\u001b[0m \u001b[0;34m=\u001b[0m \u001b[0mmodel\u001b[0m\u001b[0;34m.\u001b[0m\u001b[0mfit\u001b[0m\u001b[0;34m(\u001b[0m\u001b[0mx\u001b[0m\u001b[0;34m,\u001b[0m \u001b[0my\u001b[0m\u001b[0;34m,\u001b[0m \u001b[0mepochs\u001b[0m\u001b[0;34m=\u001b[0m\u001b[0;36m2000\u001b[0m\u001b[0;34m,\u001b[0m \u001b[0mbatch_size\u001b[0m\u001b[0;34m=\u001b[0m\u001b[0;36m1\u001b[0m\u001b[0;34m)\u001b[0m\u001b[0;34m\u001b[0m\u001b[0;34m\u001b[0m\u001b[0m\n\u001b[0m",
            "\u001b[0;31mNameError\u001b[0m: name 'model' is not defined"
          ]
        }
      ],
      "source": [
        "# 3.28 tf.keras 를 이용한 XOR 네트워크 학습\n",
        "history = model.fit(x, y, epochs=2000, batch_size=1)"
      ]
    },
    {
      "cell_type": "code",
      "execution_count": null,
      "metadata": {
        "colab": {
          "base_uri": "https://localhost:8080/",
          "height": 89
        },
        "id": "3AqRMyHhTOcB",
        "outputId": "ef451b00-87a7-49cf-815c-d9ff1e5b59c5"
      },
      "outputs": [
        {
          "data": {
            "text/plain": [
              "array([[0.05724718],\n",
              "       [0.9555097 ],\n",
              "       [0.9552847 ],\n",
              "       [0.03977039]], dtype=float32)"
            ]
          },
          "execution_count": 27,
          "metadata": {
            "tags": []
          },
          "output_type": "execute_result"
        }
      ],
      "source": [
        "# 3.29 tf.keras 를 이용한 XOR 네트워크 평가\n",
        "model.predict(x)"
      ]
    },
    {
      "cell_type": "code",
      "execution_count": null,
      "metadata": {
        "colab": {
          "base_uri": "https://localhost:8080/",
          "height": 161
        },
        "id": "6PWc0Lai_ceb",
        "outputId": "877eb51b-c196-4c6d-8980-e8cd5ae5252e"
      },
      "outputs": [
        {
          "name": "stdout",
          "output_type": "stream",
          "text": [
            "<tf.Variable 'dense_14/kernel:0' shape=(2, 2) dtype=float32, numpy=\n",
            "array([[-4.0317945, -6.0787964],\n",
            "       [-4.0165396, -5.977493 ]], dtype=float32)>\n",
            "<tf.Variable 'dense_14/bias:0' shape=(2,) dtype=float32, numpy=array([5.927255 , 2.2947845], dtype=float32)>\n",
            "<tf.Variable 'dense_15/kernel:0' shape=(2, 1) dtype=float32, numpy=\n",
            "array([[ 7.936609],\n",
            "       [-8.199594]], dtype=float32)>\n",
            "<tf.Variable 'dense_15/bias:0' shape=(1,) dtype=float32, numpy=array([-3.650685], dtype=float32)>\n"
          ]
        }
      ],
      "source": [
        "# 3.30 XOR 네트워크의 가중치와 편향 확인\n",
        "for weight in model.weights:\n",
        "    print(weight)"
      ]
    },
    {
      "cell_type": "markdown",
      "metadata": {
        "id": "VW1-cpOCIbD_"
      },
      "source": [
        "# 3.4 시각화 기초"
      ]
    },
    {
      "cell_type": "markdown",
      "metadata": {
        "id": "VaFmWABsIei2"
      },
      "source": [
        "## 3.4.1\tmatplotlib.pyplot 을 사용한 그래프 그리기"
      ]
    },
    {
      "cell_type": "code",
      "execution_count": null,
      "metadata": {
        "colab": {
          "base_uri": "https://localhost:8080/",
          "height": 269
        },
        "id": "mYmyzli4Fy9T",
        "outputId": "822f10a4-0380-4ece-b836-7b3c796e64f3"
      },
      "outputs": [
        {
          "data": {
            "image/png": "[encoded data removed]",
            "text/plain": [
              "<Figure size 432x288 with 1 Axes>"
            ]
          },
          "metadata": {
            "tags": []
          },
          "output_type": "display_data"
        }
      ],
      "source": [
        "# 3.31 간단한 꺾은선 그래프 그리기\n",
        "import matplotlib.pyplot as plt\n",
        "x = range(20)\n",
        "y = tf.random.normal([20],0,1)\n",
        "plt.plot(x,y)\n",
        "plt.show()"
      ]
    },
    {
      "cell_type": "code",
      "execution_count": null,
      "metadata": {
        "colab": {
          "base_uri": "https://localhost:8080/",
          "height": 270
        },
        "id": "qSwyczRFA2_D",
        "outputId": "ff2be61f-089a-4580-d5ba-0450a6fc52f0"
      },
      "outputs": [
        {
          "data": {
            "image/png": "[encoded data removed]",
            "text/plain": [
              "<Figure size 432x288 with 1 Axes>"
            ]
          },
          "metadata": {
            "tags": []
          },
          "output_type": "display_data"
        }
      ],
      "source": [
        "# 3.32 간단한 점 그래프 그리기\n",
        "import matplotlib.pyplot as plt\n",
        "x = range(20)\n",
        "y = tf.random.normal([20],0,1)\n",
        "plt.plot(x,y,'bo')\n",
        "plt.show()"
      ]
    },
    {
      "cell_type": "code",
      "execution_count": null,
      "metadata": {
        "colab": {
          "base_uri": "https://localhost:8080/",
          "height": 269
        },
        "id": "QzM-W2p8B_Rz",
        "outputId": "0beebd52-ecae-48bd-c538-0305800ce458"
      },
      "outputs": [
        {
          "data": {
            "image/png": "[encoded data removed]",
            "text/plain": [
              "<Figure size 432x288 with 1 Axes>"
            ]
          },
          "metadata": {
            "tags": []
          },
          "output_type": "display_data"
        }
      ],
      "source": [
        "# 3.33 정규분포 그래프를 히스토그램으로 나타내기\n",
        "import matplotlib.pyplot as plt\n",
        "random_normal = tf.random.normal([100000],0,1)\n",
        "plt.hist(random_normal, bins=100)\n",
        "plt.show()"
      ]
    },
    {
      "cell_type": "markdown",
      "metadata": {
        "id": "eOwSWsJNI_Ee"
      },
      "source": [
        "## 3.4.2 2-레이어 XOR 네트워크의 정보 시각화"
      ]
    },
    {
      "cell_type": "code",
      "execution_count": null,
      "metadata": {
        "colab": {
          "base_uri": "https://localhost:8080/",
          "height": 287
        },
        "id": "_22lpXzKCHhs",
        "outputId": "89a2011f-94dd-4c4e-924e-e47998d80e33"
      },
      "outputs": [
        {
          "data": {
            "text/plain": [
              "[<matplotlib.lines.Line2D at 0x7fb84672d8d0>]"
            ]
          },
          "execution_count": 35,
          "metadata": {
            "tags": []
          },
          "output_type": "execute_result"
        },
        {
          "data": {
            "image/png": "[encoded data removed]",
            "text/plain": [
              "<Figure size 432x288 with 1 Axes>"
            ]
          },
          "metadata": {
            "tags": []
          },
          "output_type": "display_data"
        }
      ],
      "source": [
        "# 3.34 2-레이어 XOR 네트워크의 loss 변화를 선 그래프로 표시\n",
        "import matplotlib.pyplot as plt\n",
        "plt.plot(history.history['loss'])"
      ]
    }
  ],
  "metadata": {
    "colab": {
      "provenance": [],
      "toc_visible": true
    },
    "kernelspec": {
      "display_name": "Python 3",
      "name": "python3"
    },
    "language_info": {
      "codemirror_mode": {
        "name": "ipython",
        "version": 3
      },
      "file_extension": ".py",
      "mimetype": "text/x-python",
      "name": "python",
      "nbconvert_exporter": "python",
      "pygments_lexer": "ipython3",
      "version": "3.10.10"
    }
  },
  "nbformat": 4,
  "nbformat_minor": 0
}
